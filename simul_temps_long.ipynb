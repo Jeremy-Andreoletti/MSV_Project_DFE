{
 "cells": [
  {
   "cell_type": "code",
   "execution_count": 1,
   "metadata": {},
   "outputs": [],
   "source": [
    "%matplotlib inline"
   ]
  },
  {
   "cell_type": "code",
   "execution_count": 2,
   "metadata": {},
   "outputs": [],
   "source": [
    "import numpy as np\n",
    "from matplotlib import pyplot as plt\n",
    "from matplotlib import animation, rc\n",
    "import pandas as pd\n",
    "import csv\n",
    "from scipy import stats\n",
    "\n",
    "# pour \"jeje\":\n",
    "#file=\"/Users/jeje/Documents/Scolaire/M2/Projet_DFE/doi_10/All_data/data_microMA/dataset_microMA_MutH.csv\"\n",
    "# pour \"nana\":\n",
    "file=\"../doi_10/All_data/data_microMA/dataset_microMA_MutH.csv\""
   ]
  },
  {
   "cell_type": "code",
   "execution_count": 3,
   "metadata": {},
   "outputs": [
    {
     "data": {
      "text/html": [
       "<style>.output {align-items: center;}</style>"
      ],
      "text/plain": [
       "<IPython.core.display.HTML object>"
      ]
     },
     "execution_count": 3,
     "metadata": {},
     "output_type": "execute_result"
    }
   ],
   "source": [
    "from IPython.display import display, HTML, Video\n",
    "CSS = \"\"\".output {align-items: center;}\"\"\"\n",
    "HTML('<style>{}</style>'.format(CSS))"
   ]
  },
  {
   "cell_type": "code",
   "execution_count": 4,
   "metadata": {},
   "outputs": [],
   "source": [
    "tmax=20000\n",
    "ncells=1475"
   ]
  },
  {
   "cell_type": "markdown",
   "metadata": {},
   "source": [
    "# Importer les données réelles"
   ]
  },
  {
   "cell_type": "code",
   "execution_count": 5,
   "metadata": {},
   "outputs": [
    {
     "data": {
      "text/html": [
       "<div>\n",
       "<style scoped>\n",
       "    .dataframe tbody tr th:only-of-type {\n",
       "        vertical-align: middle;\n",
       "    }\n",
       "\n",
       "    .dataframe tbody tr th {\n",
       "        vertical-align: top;\n",
       "    }\n",
       "\n",
       "    .dataframe thead th {\n",
       "        text-align: right;\n",
       "    }\n",
       "</style>\n",
       "<table border=\"1\" class=\"dataframe\">\n",
       "  <thead>\n",
       "    <tr style=\"text-align: right;\">\n",
       "      <th></th>\n",
       "      <th>growth.rate</th>\n",
       "      <th>growth.rate.1</th>\n",
       "      <th>growth.rate.2</th>\n",
       "      <th>growth.rate.3</th>\n",
       "      <th>growth.rate.4</th>\n",
       "    </tr>\n",
       "  </thead>\n",
       "  <tbody>\n",
       "    <tr>\n",
       "      <th>0</th>\n",
       "      <td>0.03527</td>\n",
       "      <td>0.032026</td>\n",
       "      <td>0.028119</td>\n",
       "      <td>0.029765</td>\n",
       "      <td>NaN</td>\n",
       "    </tr>\n",
       "    <tr>\n",
       "      <th>1</th>\n",
       "      <td>0.03527</td>\n",
       "      <td>0.032026</td>\n",
       "      <td>0.028119</td>\n",
       "      <td>0.029765</td>\n",
       "      <td>0.033812</td>\n",
       "    </tr>\n",
       "    <tr>\n",
       "      <th>2</th>\n",
       "      <td>0.03247</td>\n",
       "      <td>0.032026</td>\n",
       "      <td>0.026802</td>\n",
       "      <td>0.030567</td>\n",
       "      <td>0.033812</td>\n",
       "    </tr>\n",
       "    <tr>\n",
       "      <th>3</th>\n",
       "      <td>0.03247</td>\n",
       "      <td>0.032026</td>\n",
       "      <td>0.026802</td>\n",
       "      <td>0.030567</td>\n",
       "      <td>0.033812</td>\n",
       "    </tr>\n",
       "    <tr>\n",
       "      <th>4</th>\n",
       "      <td>0.03247</td>\n",
       "      <td>0.033672</td>\n",
       "      <td>0.026802</td>\n",
       "      <td>0.030567</td>\n",
       "      <td>0.033812</td>\n",
       "    </tr>\n",
       "  </tbody>\n",
       "</table>\n",
       "</div>"
      ],
      "text/plain": [
       "   growth.rate  growth.rate.1  growth.rate.2  growth.rate.3  growth.rate.4\n",
       "0      0.03527       0.032026       0.028119       0.029765            NaN\n",
       "1      0.03527       0.032026       0.028119       0.029765       0.033812\n",
       "2      0.03247       0.032026       0.026802       0.030567       0.033812\n",
       "3      0.03247       0.032026       0.026802       0.030567       0.033812\n",
       "4      0.03247       0.033672       0.026802       0.030567       0.033812"
      ]
     },
     "execution_count": 5,
     "metadata": {},
     "output_type": "execute_result"
    }
   ],
   "source": [
    "growthR_real_df = pd.read_csv(file, \n",
    "                      sep = \";\", \n",
    "                      decimal=\",\", \n",
    "                      usecols=range(2,1476*3+1,3), \n",
    "                      skiprows=[1,2])\n",
    "growthR_real_df.iloc[:5, :5]"
   ]
  },
  {
   "cell_type": "code",
   "execution_count": 6,
   "metadata": {},
   "outputs": [],
   "source": [
    "growthR_real_array = growthR_real_df.to_numpy()"
   ]
  },
  {
   "cell_type": "code",
   "execution_count": 7,
   "metadata": {},
   "outputs": [
    {
     "name": "stdout",
     "output_type": "stream",
     "text": [
      "(20000, 1475)\n"
     ]
    }
   ],
   "source": [
    "exp_shape = (tmax, ncells)#np.shape(growthR_real_array)\n",
    "print(exp_shape)"
   ]
  },
  {
   "cell_type": "code",
   "execution_count": 8,
   "metadata": {},
   "outputs": [
    {
     "data": {
      "text/plain": [
       "array([[3.5269650e-02, 3.2025912e-02, 2.8119496e-02, ..., 2.3454689e-02,\n",
       "        1.8758796e-02,           nan],\n",
       "       [3.5269650e-02, 3.2025912e-02, 2.8119496e-02, ..., 2.3454689e-02,\n",
       "        1.8758796e-02, 2.5567243e-02],\n",
       "       [3.2470449e-02, 3.2025912e-02, 2.6801815e-02, ..., 2.6620318e-02,\n",
       "        3.0876094e-02, 2.5567243e-02],\n",
       "       ...,\n",
       "       [2.8670487e-02, 1.6752654e-02, 2.5671465e-02, ..., 4.7900000e-05,\n",
       "        2.6452291e-02, 0.0000000e+00],\n",
       "       [2.8670487e-02, 1.6752654e-02, 2.5671465e-02, ..., 4.7900000e-05,\n",
       "        2.6452291e-02, 0.0000000e+00],\n",
       "       [2.8670487e-02, 1.6752654e-02, 2.5671465e-02, ..., 4.7900000e-05,\n",
       "        2.6452291e-02, 0.0000000e+00]])"
      ]
     },
     "execution_count": 8,
     "metadata": {},
     "output_type": "execute_result"
    }
   ],
   "source": [
    "growthR_real_array"
   ]
  },
  {
   "cell_type": "code",
   "execution_count": 9,
   "metadata": {},
   "outputs": [],
   "source": [
    "# Distribution initiale des taux de croissances\n",
    "#growthR_init = growthR_real_array[:,0]   # première génération de l'expérience (comprenant des taux de croissance aberrants et des NAs)\n",
    "growthR_init = np.array([np.median([l for l in d if not np.isnan(l)]) for d in growthR_real_array.T[:,:10]])   # médiane des 10 premières mesures\n",
    "growthR_init[growthR_init<0] = 0          # retirer la valeur de taux de croissance négative aberrante"
   ]
  },
  {
   "cell_type": "markdown",
   "metadata": {},
   "source": [
    "# Simulations"
   ]
  },
  {
   "cell_type": "code",
   "execution_count": 10,
   "metadata": {},
   "outputs": [
    {
     "data": {
      "text/plain": [
       "(2133, 1476)"
      ]
     },
     "execution_count": 10,
     "metadata": {},
     "output_type": "execute_result"
    }
   ],
   "source": [
    "# Générer des mutations\n",
    "mutation_rate = 0.32/60   # nombre de mutations par minute, estimation pour mutH (mutH: ~0.32 mutation/heure)\n",
    "exp_duration = tmax*4#4000       # durée de l'expérience, en minutes\n",
    "mut_shape = (int(exp_duration*mutation_rate*5), 1476)  # nombre de mutations à tirer dans chacun des 1476 canaux de l'expérience\n",
    "lethal_mut_proba = 0.01   # fraction de mutation létales (estimée à 1% dans l'article)\n",
    "constant_mut_rate = False # on choisit si le taux de mutation est constant\n",
    "\n",
    "# Temps de mesure des taux de croissance, comme dans l'article (toutes les 4 minutes sur 4000 minutes)\n",
    "time = np.arange(0, exp_duration, 4, dtype=float)\n",
    "\n",
    "# Bruit sur les mesures\n",
    "sd_noise = 0.1          # Écart-type bruit additif gaussien\n",
    "\n",
    "mut_shape"
   ]
  },
  {
   "cell_type": "code",
   "execution_count": 11,
   "metadata": {},
   "outputs": [
    {
     "name": "stdout",
     "output_type": "stream",
     "text": [
      "Espérance de la loi simulée: 0.0030738556118634214\n",
      "Espérance à obtenir: 0.0031\n",
      "CV de la loi simulée: 9.756143991277604\n",
      "CV à obtenir: 9.5\n",
      "Asymétrie de la loi simulée: 15.038610302529994\n",
      "Asymétrie à obtenir: 16.6\n",
      "Kurtosis de la loi simulée: 116.8497466871635\n",
      "Kurtosis à obtenir: 360\n"
     ]
    }
   ],
   "source": [
    "# Paramètres de la distribution Beta fittée comme DFE dans l'article\n",
    "alpha=0.0074\n",
    "beta=2.4\n",
    "\n",
    "esp=alpha/(alpha+beta)\n",
    "var=alpha*beta/((alpha+beta)**2*(alpha+beta+1))\n",
    "asym=2*(beta-alpha)*np.sqrt(alpha+beta+1)/((alpha+beta+2)*np.sqrt(alpha*beta))\n",
    "kurtosis=6*(beta-alpha)**2*(alpha+beta+1)-alpha*beta*(alpha+beta+2)/(alpha*beta*(alpha+beta+2)*(alpha+beta+3))\n",
    "\n",
    "print(\"Espérance de la loi simulée:\",esp)\n",
    "print(\"Espérance à obtenir: 0.0031\")\n",
    "print(\"CV de la loi simulée:\",np.sqrt(var)/esp)\n",
    "print(\"CV à obtenir: 9.5\")\n",
    "print(\"Asymétrie de la loi simulée:\",asym)\n",
    "print(\"Asymétrie à obtenir: 16.6\")\n",
    "print(\"Kurtosis de la loi simulée:\",kurtosis)\n",
    "print(\"Kurtosis à obtenir: 360\")"
   ]
  },
  {
   "cell_type": "code",
   "execution_count": 12,
   "metadata": {},
   "outputs": [
    {
     "data": {
      "image/png": "[encoded data removed]",
      "text/plain": [
       "<Figure size 432x288 with 1 Axes>"
      ]
     },
     "metadata": {
      "needs_background": "light"
     },
     "output_type": "display_data"
    }
   ],
   "source": [
    "np.random.seed(0)    # graîne pour les générateurs aléatoires\n",
    "\n",
    "# Combiner différentes densités pour former une DFE mixte\n",
    "dty_mix = (np.random.beta(alpha, beta, mut_shape),           # distribution beta inférée dans l'article\n",
    "           np.ones(mut_shape))                               # mutations létales\n",
    "#dty_mix = (np.random.beta(alpha1,beta1, mut_shape),\n",
    "#           np.random.beta(alpha2,beta2, mut_shape),\n",
    "#           np.ones(mut_shape))                               \n",
    "\n",
    "weights = np.array([1-lethal_mut_proba, lethal_mut_proba])   # poids de chaque densité\n",
    "#weights = np.array([(1-lethal_mut_proba)/2,(1-lethal_mut_proba)/2, lethal_mut_proba])   # poids de chaque densité\n",
    "\n",
    "s = np.choose(np.random.choice(np.arange(len(dty_mix)), p=weights, size=mut_shape), choices = dty_mix)\n",
    "\n",
    "plt.hist(np.concatenate(s), bins=200, log=True, density=True)\n",
    "plt.title(\"Tirages d'effets des mutations dans la DFE choisie\")\n",
    "plt.xlabel(\"s\")\n",
    "plt.ylabel(\"Densité (log)\")\n",
    "plt.show()"
   ]
  },
  {
   "cell_type": "code",
   "execution_count": 13,
   "metadata": {},
   "outputs": [
    {
     "data": {
      "text/plain": [
       "(2133, 1476)"
      ]
     },
     "execution_count": 13,
     "metadata": {},
     "output_type": "execute_result"
    }
   ],
   "source": [
    "# Effets relatifs des mutations sur la fitness\n",
    "fitness_effects = (1 - s)\n",
    "fitness_effects.shape"
   ]
  },
  {
   "cell_type": "code",
   "execution_count": 14,
   "metadata": {},
   "outputs": [
    {
     "data": {
      "text/plain": [
       "array([[0.03247045, 0.03284871, 0.0281195 , ..., 0.02662032, 0.02952523,\n",
       "        0.02556724],\n",
       "       [0.03247045, 0.03284871, 0.02803682, ..., 0.02662032, 0.02952523,\n",
       "        0.02556724],\n",
       "       [0.03247045, 0.03284871, 0.02803682, ..., 0.02662032, 0.02952523,\n",
       "        0.02556724],\n",
       "       ...,\n",
       "       [0.        , 0.        , 0.        , ..., 0.        , 0.        ,\n",
       "        0.        ],\n",
       "       [0.        , 0.        , 0.        , ..., 0.        , 0.        ,\n",
       "        0.        ],\n",
       "       [0.        , 0.        , 0.        , ..., 0.        , 0.        ,\n",
       "        0.        ]])"
      ]
     },
     "execution_count": 14,
     "metadata": {},
     "output_type": "execute_result"
    }
   ],
   "source": [
    "cumulative_fitness_effects = np.cumprod(fitness_effects, axis=0)          # effets relatifs cumulés des mutations\n",
    "growthR_steps_sim = np.vstack((growthR_init, cumulative_fitness_effects*growthR_init))   # évolution du taux de croissance mutation par mutation\n",
    "\n",
    "growthR_steps_sim"
   ]
  },
  {
   "cell_type": "code",
   "execution_count": 15,
   "metadata": {},
   "outputs": [
    {
     "data": {
      "image/png": "[encoded data removed]",
      "text/plain": [
       "<Figure size 1080x360 with 2 Axes>"
      ]
     },
     "metadata": {
      "needs_background": "light"
     },
     "output_type": "display_data"
    }
   ],
   "source": [
    "growthR_steps_sim_noise = np.vstack((growthR_init, \n",
    "                                     cumulative_fitness_effects*growthR_init*(1+np.random.normal(0, sd_noise, size=mut_shape))))\n",
    "growthR_steps_sim_noise[growthR_steps_sim_noise<0] = 0\n",
    "\n",
    "im,(ax1,ax2) = plt.subplots(1,2,figsize=(15,5))\n",
    "ax1.plot(growthR_steps_sim[:,:100], color=\"black\", alpha=0.2)\n",
    "ax1.set_title(\"Effets cumulés des mutations sur les taux de croissance\",fontsize=15)\n",
    "ax2.plot(growthR_steps_sim_noise[:,:100], color=\"black\", alpha=0.2)\n",
    "ax2.set_title(\"Idem avec mesures bruitees\",fontsize=15)\n",
    "plt.show()"
   ]
  },
  {
   "cell_type": "code",
   "execution_count": 16,
   "metadata": {},
   "outputs": [
    {
     "name": "stdout",
     "output_type": "stream",
     "text": [
      "(2133, 1476)\n"
     ]
    },
    {
     "name": "stderr",
     "output_type": "stream",
     "text": [
      "<ipython-input-16-94187d96a807>:8: RuntimeWarning: divide by zero encountered in true_divide\n",
      "  exponential_intervals = np.random.exponential(1/mutation_rate_t)\n"
     ]
    }
   ],
   "source": [
    "np.random.seed(0)\n",
    "\n",
    "if constant_mut_rate : # taux de mutation constant dans le temps et entre les cellules\n",
    "    exponential_intervals = np.random.exponential(1/mutation_rate, mut_shape)  # durées entre 2 mutations\n",
    "    #print(exponential_intervals)\n",
    "else :                 # taux de mutation décroissant avec le taux de croissance (cycle cellulaire et réplication ralentis)\n",
    "    mutation_rate_t = growthR_steps_sim[:-1]/np.mean(growthR_init) * mutation_rate\n",
    "    exponential_intervals = np.random.exponential(1/mutation_rate_t)\n",
    "    exponential_intervals[np.isinf(exponential_intervals)] = exp_duration\n",
    "\n",
    "mutation_time = np.cumsum(exponential_intervals, axis=0)  # temps d'apparition de chaque mutation, en minutes\n",
    "print(np.shape(mutation_time))\n",
    "\n",
    "#plt.hist(mutation_time[-1,:])\n",
    "#plt.vlines(exp_duration, 0, 300, colors=\"red\", linestyles=\"dashed\")\n",
    "#plt.title(\"Distribution des durées d'expériences in silico\")\n",
    "#plt.xlabel(\"Temps (min)\")\n",
    "#plt.show()\n",
    "\n",
    "# Vérifier que toutes les expériences in silico sont plus longues que l'expérience réelle, pour pouvoir tronquer\n",
    "assert min(mutation_time[-1,:]) > exp_duration, \"Ajouter plus de mutations, simulations trop courtes : \" + str(mutation_time[-1,mutation_time[-1,:]<exp_duration])"
   ]
  },
  {
   "cell_type": "code",
   "execution_count": 17,
   "metadata": {},
   "outputs": [
    {
     "data": {
      "text/plain": [
       "(20000, 1476)"
      ]
     },
     "execution_count": 17,
     "metadata": {},
     "output_type": "execute_result"
    }
   ],
   "source": [
    "growthR_sim = []\n",
    "growthR_sim_noise = []\n",
    "for i in range (0, np.shape(mutation_time)[1]):  # pour chaque expérience\n",
    "    # Identifier après quelle mutation la mesure est faite\n",
    "    cond = np.array([time<t for t in mutation_time[:,i]]) & np.array([time>=t for t in np.concatenate(([0],mutation_time[:-1,i]))])\n",
    "    # Prendre la valeur de taux de croissance associé à cette mutation\n",
    "    growthR_sim.append(np.piecewise(time, condlist = cond, funclist = growthR_steps_sim[1:,i]))\n",
    "    growthR_sim_noise.append(np.piecewise(time, condlist = cond, funclist = growthR_steps_sim_noise[1:,i]))\n",
    "\n",
    "growthR_sim = np.array(growthR_sim).T\n",
    "growthR_sim_noise = np.array(growthR_sim_noise).T\n",
    "growthR_sim.shape"
   ]
  },
  {
   "cell_type": "code",
   "execution_count": 18,
   "metadata": {},
   "outputs": [
    {
     "data": {
      "text/plain": [
       "(20000, 1476)"
      ]
     },
     "execution_count": 18,
     "metadata": {},
     "output_type": "execute_result"
    }
   ],
   "source": [
    "growthR_sim.shape"
   ]
  },
  {
   "cell_type": "code",
   "execution_count": 19,
   "metadata": {},
   "outputs": [],
   "source": [
    "from scipy.stats import gaussian_kde"
   ]
  },
  {
   "cell_type": "code",
   "execution_count": 20,
   "metadata": {},
   "outputs": [],
   "source": [
    "xmin=0\n",
    "xmax=0.14\n",
    "ymin=0\n",
    "ymax=250\n",
    "nbreaks=200\n",
    "\n",
    "\n",
    "#lambd=0.1 # paramètre de la loi de Poisson\n",
    "#Nt=0 # nombre de mutations avant le temps t\n",
    "\n",
    "#seuil_detection_fitness=0.0005"
   ]
  },
  {
   "cell_type": "code",
   "execution_count": 21,
   "metadata": {},
   "outputs": [],
   "source": [
    "def get_y(x,growthR_cur,eps): # trouve la hauteur de la barre de l'histogramme correspondant à [x-eps/2,x+eps/2]\n",
    "    y=[]\n",
    "    i=0\n",
    "    j=0\n",
    "    for x_cur in x:\n",
    "        while x_cur-growthR_cur[i]>eps/2 and i<len(growthR_cur)-1: i+=1\n",
    "        while growthR_cur[j]-x_cur<eps/2 and j<len(growthR_cur)-1: j+=1\n",
    "        y+=[j-i]\n",
    "    return y\n",
    "\n",
    "def get_dist_s(growthR_real): # calcul de tous les effets entre chaque mesure (inclut les non-effets en cas de non-division)\n",
    "    s=[]\n",
    "    for i in range(2,len(growthR_real)-1):\n",
    "        for j in range(len(growthR_real[i])): \n",
    "            wv=(growthR_real[i])[j]\n",
    "            wn=(growthR_real[i+1])[j]\n",
    "            if wv!=0:\n",
    "                s+=[(wv-wn)/wv]\n",
    "    return s\n",
    "\n",
    "def sort_rows(w): # pour optimiser la construction de l'histogramme\n",
    "    res=[]\n",
    "    for row in w:\n",
    "        res+=[np.sort(row)]\n",
    "    return res\n",
    "    \n",
    "def analyse_ligne(row): \n",
    "    res=[]\n",
    "    for i in range(int(len(row)/3-1)):\n",
    "        if(row[3*i+2]!=\"NA\"):\n",
    "            nouv=float(row[3*i+2].replace(\",\",\".\"))\n",
    "            if nouv<seuil_detection_fitness: nouv=0\n",
    "            res+=[nouv]\n",
    "        else:\n",
    "            res+=[0] # JJ   attention, pb à régler un jour!\n",
    "    return res"
   ]
  },
  {
   "cell_type": "code",
   "execution_count": 22,
   "metadata": {},
   "outputs": [],
   "source": [
    "fig, ax = plt.subplots(figsize=(15,5))\n",
    "line1,line2,=ax.plot([], [], [], [])\n",
    "line = [line1,line2]\n",
    "ax.set(xlabel = \"Taux de croissance au temps t\", ylabel = \"Nombre d'individus\")\n",
    "ax.xaxis.label.set_fontsize(15)\n",
    "ax.yaxis.label.set_fontsize(15)\n",
    "plt.close()\n",
    "\n",
    "def init():\n",
    "    ax.set_xlim(xmin,xmax)\n",
    "    ax.set_ylim(ymin,ymax)\n",
    "    ax.grid(True)\n",
    "    return line,"
   ]
  },
  {
   "cell_type": "code",
   "execution_count": null,
   "metadata": {
    "scrolled": false
   },
   "outputs": [],
   "source": [
    "ax.legend([\"Processus simulé\"])\n",
    "\n",
    "def update(frame): # met à jour l'affichage\n",
    "    x=np.linspace(xmin,xmax,nbreaks)\n",
    "    y_sim=get_y(x,np.sort(growthR_sim[frame]),eps=(xmax-xmin)/nbreaks)\n",
    "    line1.set_data(x,y_sim)\n",
    "    titre=\"\"\n",
    "    titre+=\"t=\"+str(int(frame*4/60))+\"h\"\n",
    "    titre+=\"    (frame=\"+str(frame)+\")\"\n",
    "    fig.suptitle(titre,size=20)\n",
    "    return line,\n",
    "\n",
    "# Lancement :\n",
    "ani = animation.FuncAnimation(fig, update, \n",
    "                              frames=range(1,tmax,10), \n",
    "                              init_func=init, \n",
    "                              blit=False, \n",
    "                              repeat=False, \n",
    "                              interval=1)\n",
    "\n",
    "# Set up formatting for the movie files\n",
    "#Writer = animation.writers['ffmpeg']\n",
    "#writer = Writer(fps=100, bitrate=1000)\n",
    "#ani.save('Video/GrowthRates_simulations_VS_observations.mp4', writer=writer)\n",
    "\n",
    "#Video('Video/GrowthRates_simulations_VS_observations.mp4')\n",
    "HTML(ani.to_html5_video())"
   ]
  }
 ],
 "metadata": {
  "kernelspec": {
   "display_name": "Python 3",
   "language": "python",
   "name": "python3"
  },
  "language_info": {
   "codemirror_mode": {
    "name": "ipython",
    "version": 3
   },
   "file_extension": ".py",
   "mimetype": "text/x-python",
   "name": "python",
   "nbconvert_exporter": "python",
   "pygments_lexer": "ipython3",
   "version": "3.9.1"
  }
 },
 "nbformat": 4,
 "nbformat_minor": 4
}
