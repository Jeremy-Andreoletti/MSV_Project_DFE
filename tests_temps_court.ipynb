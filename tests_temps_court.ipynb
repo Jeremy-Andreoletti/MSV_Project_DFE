{
 "cells": [
  {
   "cell_type": "code",
   "execution_count": 1,
   "metadata": {},
   "outputs": [],
   "source": [
    "import numpy as np\n",
    "from matplotlib import pyplot as plt\n",
    "from matplotlib.animation import FuncAnimation\n",
    "import csv\n",
    "from scipy import stats\n",
    "%matplotlib inline"
   ]
  },
  {
   "cell_type": "code",
   "execution_count": 2,
   "metadata": {},
   "outputs": [],
   "source": [
    "with open('growthR_sim.npy', 'rb') as f:\n",
    "    wt_sim = np.load(f)\n",
    "    wt_sim = wt_sim[:,wt_sim[0,:]!=0]\n",
    "with open('growthR_sim_noisy.npy', 'rb') as f:\n",
    "    wt_sim_noise = np.load(f)\n",
    "    wt_sim_noise = wt_sim_noise[:,wt_sim_noise[0,:]!=0]"
   ]
  },
  {
   "cell_type": "code",
   "execution_count": 3,
   "metadata": {},
   "outputs": [],
   "source": [
    "def normalise(wt_init): # renvoie Wt/W0 pour que toutes les cellules partent du même taux de croissance\n",
    "    wt=wt_init.copy()\n",
    "    for i in range(len(wt[0,:])):\n",
    "        if(wt[0,i]!=0):\n",
    "            wt[:,i]=wt[:,i]/wt[0,i]\n",
    "        else:\n",
    "             wt[:,i]=wt[:,i]*0\n",
    "    return wt"
   ]
  },
  {
   "cell_type": "markdown",
   "metadata": {},
   "source": [
    "D'après le texte sur le temps court :\n",
    "$$\\frac{w_t-e^{-\\lambda t}\\delta_1}{\\lambda t}-f$$ est petit (borné en variation totale par $Kt$) pour $t$ petit, où $f$ est la dfe et $w_t$ est la solution *en partant de $\\delta_1$* et *sans les morts* et à condition que $\\gamma>0$.\n",
    "\n",
    "Donc : $f$ ressemble, à homothétie près, à $w_{\\delta t}-dirac$ : presque aucun travail à faire !"
   ]
  },
  {
   "cell_type": "code",
   "execution_count": 32,
   "metadata": {},
   "outputs": [],
   "source": [
    "wt_sim_norm=normalise(wt_sim)\n",
    "\n",
    "# on enlève les mutations létales :\n",
    "mu=0.01/15\n",
    "wtn_nd=np.array([wt_sim_norm[i]*np.exp(mu*i) for i in range(len(wt_sim))])\n",
    "\n",
    "# on estime f :\n",
    "lambd=0.032/60\n",
    "f_est=np.array([(wtn_nd[i]) for i in range(1,len(wt_sim))])"
   ]
  },
  {
   "cell_type": "code",
   "execution_count": 53,
   "metadata": {
    "scrolled": true
   },
   "outputs": [
    {
     "data": {
      "text/plain": [
       "(array([9., 0., 0., 0., 0., 0., 1., 1., 0., 0., 0., 0., 0., 1., 0., 0., 1.,\n",
       "        2., 3., 8.]),\n",
       " array([0.  , 0.05, 0.1 , 0.15, 0.2 , 0.25, 0.3 , 0.35, 0.4 , 0.45, 0.5 ,\n",
       "        0.55, 0.6 , 0.65, 0.7 , 0.75, 0.8 , 0.85, 0.9 , 0.95, 1.  ]),\n",
       " <BarContainer object of 20 artists>)"
      ]
     },
     "execution_count": 53,
     "metadata": {},
     "output_type": "execute_result"
    },
    {
     "data": {
      "image/png": "[encoded data removed]",
      "text/plain": [
       "<Figure size 432x288 with 1 Axes>"
      ]
     },
     "metadata": {
      "needs_background": "light"
     },
     "output_type": "display_data"
    }
   ],
   "source": [
    "plt.hist(f_est[20],bins=20,range=(0,1))"
   ]
  },
  {
   "cell_type": "markdown",
   "metadata": {},
   "source": [
    "## Temps jusqu'auquel on pourrait aller :\n",
    "\n",
    "On a : $$erreur\\leqslant \\lambda t\\exp{4\\lambda t}$$"
   ]
  },
  {
   "cell_type": "code",
   "execution_count": 54,
   "metadata": {},
   "outputs": [
    {
     "name": "stdout",
     "output_type": "stream",
     "text": [
      "0.42666666666666664 2.351173243043672\n"
     ]
    }
   ],
   "source": [
    "lambd=4*0.32/60 # nb de mutations par photo (1 photo=4 minutes)\n",
    "t=20\n",
    "e=lambd*t*np.exp(4*lambd*t)\n",
    "print(lambd*t,e)"
   ]
  },
  {
   "cell_type": "markdown",
   "metadata": {},
   "source": [
    "Pour $t=20$, 40% des cellules ont muté (~600) et si on avait une infinité de cellules on pourrait estimer la dfe avec une erreur en variation totale de 2.35 : est-ce beaucoup ?\n",
    "\n",
    "On remarque que très peu de cellules mutées ont un taux de croissance $<<1$.\n",
    "\n",
    "Compromis :\n",
    "\n",
    "$\\to$ $t$ grand: borne moins bonne d'après l'expression\n",
    "\n",
    "$\\to$ $t$ petit: peu de cellules ont muté donc peu de cellules significatives"
   ]
  }
 ],
 "metadata": {
  "kernelspec": {
   "display_name": "Python 3",
   "language": "python",
   "name": "python3"
  },
  "language_info": {
   "codemirror_mode": {
    "name": "ipython",
    "version": 3
   },
   "file_extension": ".py",
   "mimetype": "text/x-python",
   "name": "python",
   "nbconvert_exporter": "python",
   "pygments_lexer": "ipython3",
   "version": "3.9.1"
  }
 },
 "nbformat": 4,
 "nbformat_minor": 4
}
