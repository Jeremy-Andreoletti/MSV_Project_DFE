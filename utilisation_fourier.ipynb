{
 "cells": [
  {
   "cell_type": "code",
   "execution_count": 3,
   "metadata": {
    "ExecuteTime": {
     "end_time": "2020-12-02T14:43:22.824015Z",
     "start_time": "2020-12-02T14:43:18.882494Z"
    }
   },
   "outputs": [],
   "source": [
    "import numpy as np\n",
    "from matplotlib import pyplot as plt\n",
    "from matplotlib.animation import FuncAnimation\n",
    "import csv\n",
    "from scipy import stats\n",
    "import scipy.fftpack"
   ]
  },
  {
   "cell_type": "code",
   "execution_count": 4,
   "metadata": {
    "ExecuteTime": {
     "end_time": "2020-12-02T14:43:22.859185Z",
     "start_time": "2020-12-02T14:43:22.830873Z"
    }
   },
   "outputs": [],
   "source": [
    "\n",
    "seuil_detection_fitness=0.005\n",
    "\n",
    "def analyse_ligne(row): \n",
    "    res=[]\n",
    "    for i in range(int(len(row)/3-1)):\n",
    "        if(row[3*i+2]!=\"NA\"):\n",
    "            nouv=float(row[3*i+2].replace(\",\",\".\"))\n",
    "            if nouv<seuil_detection_fitness: nouv=0\n",
    "            res+=[nouv]\n",
    "        else:\n",
    "            res+=[-1] # JJ   attention, pb à régler un jour!\n",
    "    return res\n",
    "\n",
    "def analyse_fichier(): # ressort [W_t pour tout t] pour le fichier lu\n",
    "    wt_tot=[]\n",
    "    wt_cur=[]\n",
    "    with open(\"doi_10/All_data/data_microMA/dataset_microMA_MutH.csv\", newline='') as csvfile:\n",
    "        reader=csv.reader(csvfile,delimiter=';')\n",
    "        nrow=0\n",
    "        for row in reader:\n",
    "            if(nrow>=2):\n",
    "                wt_cur=analyse_ligne(row)\n",
    "                wt_tot+=[wt_cur]\n",
    "            nrow+=1\n",
    "    return wt_tot"
   ]
  },
  {
   "cell_type": "code",
   "execution_count": 5,
   "metadata": {
    "ExecuteTime": {
     "end_time": "2020-12-02T14:43:27.333850Z",
     "start_time": "2020-12-02T14:43:22.876209Z"
    }
   },
   "outputs": [],
   "source": [
    "\n",
    "wt_real=np.array(analyse_fichier())\n",
    "wt_real=wt_real[3:,:] # il faut supprimer les deux 1res.\n",
    "with open('wt_sim.npy', 'rb') as f:\n",
    "    wt_sim = np.load(f)\n"
   ]
  },
  {
   "cell_type": "code",
   "execution_count": 6,
   "metadata": {
    "ExecuteTime": {
     "end_time": "2020-12-02T14:43:27.429282Z",
     "start_time": "2020-12-02T14:43:27.356841Z"
    }
   },
   "outputs": [],
   "source": [
    "# (COMMENTER POUR TRAVAILLER SUR LES VRAIES DONNÉES)\n",
    "wt_real=np.array(wt_sim)"
   ]
  },
  {
   "cell_type": "code",
   "execution_count": 7,
   "metadata": {
    "ExecuteTime": {
     "end_time": "2020-12-02T14:43:27.458857Z",
     "start_time": "2020-12-02T14:43:27.433306Z"
    }
   },
   "outputs": [],
   "source": [
    "\n",
    "# On considère W_t/W_0: <-- pose des problèmes pour les données observées\n",
    "#for i in range(len(wt_real[0,:])):\n",
    "#    if(wt_real[0,i]!=0):\n",
    "#        wt_real[:,i]=wt_real[:,i]/wt_real[0,i]\n",
    "#    else:\n",
    "#         wt_real[:,i]=wt_real[:,i]*0\n"
   ]
  },
  {
   "cell_type": "code",
   "execution_count": 8,
   "metadata": {
    "ExecuteTime": {
     "end_time": "2020-12-02T14:43:27.561520Z",
     "start_time": "2020-12-02T14:43:27.496623Z"
    }
   },
   "outputs": [],
   "source": [
    "    \n",
    "def fonction(x):\n",
    "    return -np.cos(2*x)+0.5*np.cos(5*x)\n",
    "\n",
    "\n",
    "def fourier_inverse(x,xi,Ff):\n",
    "    res=[]\n",
    "    n=len(Ff)\n",
    "    for xp in x:\n",
    "        fx=0\n",
    "        for i in range(n):\n",
    "            fx+=Ff[i]*np.exp(1j*xp*xi[i])\n",
    "        res+=[fx/n]\n",
    "    return res\n",
    "\n",
    "def get_fourier_wt(xi,wt):\n",
    "    res=[]\n",
    "    n=len(wt)\n",
    "    for xip in xi:\n",
    "        ntot=0\n",
    "        Ffx=0\n",
    "        for i in range(n):\n",
    "            if(wt[i]>0.001):\n",
    "                Ffx+=np.exp(-1j*xip*np.log(wt[i]))\n",
    "                ntot+=1\n",
    "        res+=[Ffx/ntot]\n",
    "    return res\n",
    "\n",
    "def get_dt(prec,nouv):\n",
    "    res=[]\n",
    "    for i in range(len(prec)):\n",
    "        res+=[nouv[i]-prec[i]]\n",
    "    return res\n"
   ]
  },
  {
   "cell_type": "code",
   "execution_count": 12,
   "metadata": {
    "ExecuteTime": {
     "end_time": "2020-12-02T14:44:54.783452Z",
     "start_time": "2020-12-02T14:44:54.775545Z"
    }
   },
   "outputs": [],
   "source": [
    "ximin=1\n",
    "ximax=100\n",
    "xipp=10\n",
    "nbreaks_xi=5\n",
    "\n",
    "tmax=200"
   ]
  },
  {
   "cell_type": "code",
   "execution_count": 13,
   "metadata": {
    "ExecuteTime": {
     "end_time": "2020-12-02T14:45:02.984332Z",
     "start_time": "2020-12-02T14:44:55.505660Z"
    }
   },
   "outputs": [
    {
     "name": "stderr",
     "output_type": "stream",
     "text": [
      "/Users/jeje/opt/anaconda3/lib/python3.7/site-packages/numpy/core/_asarray.py:83: ComplexWarning: Casting complex values to real discards the imaginary part\n",
      "  return array(a, dtype, copy=False, order=order)\n"
     ]
    },
    {
     "data": {
      "image/png": "[encoded data removed]",
      "text/plain": [
       "<Figure size 432x288 with 1 Axes>"
      ]
     },
     "metadata": {
      "needs_background": "light"
     },
     "output_type": "display_data"
    }
   ],
   "source": [
    "\n",
    "#x=np.linspace(xmin,xmax,nbreaks_x)\n",
    "xi=np.linspace(ximin,ximax,nbreaks_xi)\n",
    "\n",
    "tot=[]\n",
    "\n",
    "for t in range(tmax):\n",
    "    #print(t) # pour patienter (car c'est un peu long...)\n",
    "    #Fu_t=get_fourier_wt([xipp],wt_real[t])\n",
    "    Fu_t=get_fourier_wt(xi,wt_real[t])\n",
    "    tot+=[np.log(np.array(Fu_t))]\n",
    "tot=np.array(tot)\n",
    "\n",
    "plt.plot(range(tmax),tot)\n",
    "plt.grid()\n",
    "plt.legend([\"xi=\"+str(xip) for xip in xi])\n",
    "plt.xlabel(\"t\")\n",
    "plt.ylabel(\"ln[Fu_t(xi)]\")\n",
    "plt.show()"
   ]
  }
 ],
 "metadata": {
  "hide_input": false,
  "kernelspec": {
   "display_name": "Python 3",
   "language": "python",
   "name": "python3"
  },
  "language_info": {
   "codemirror_mode": {
    "name": "ipython",
    "version": 3
   },
   "file_extension": ".py",
   "mimetype": "text/x-python",
   "name": "python",
   "nbconvert_exporter": "python",
   "pygments_lexer": "ipython3",
   "version": "3.7.7"
  },
  "nbTranslate": {
   "displayLangs": [
    "*"
   ],
   "hotkey": "alt-t",
   "langInMainMenu": true,
   "sourceLang": "en",
   "targetLang": "fr",
   "useGoogleTranslate": true
  },
  "toc": {
   "base_numbering": 1,
   "nav_menu": {},
   "number_sections": true,
   "sideBar": true,
   "skip_h1_title": false,
   "title_cell": "Table of Contents",
   "title_sidebar": "Contents",
   "toc_cell": false,
   "toc_position": {},
   "toc_section_display": true,
   "toc_window_display": false
  },
  "varInspector": {
   "cols": {
    "lenName": 16,
    "lenType": 16,
    "lenVar": 40
   },
   "kernels_config": {
    "python": {
     "delete_cmd_postfix": "",
     "delete_cmd_prefix": "del ",
     "library": "var_list.py",
     "varRefreshCmd": "print(var_dic_list())"
    },
    "r": {
     "delete_cmd_postfix": ") ",
     "delete_cmd_prefix": "rm(",
     "library": "var_list.r",
     "varRefreshCmd": "cat(var_dic_list()) "
    }
   },
   "types_to_exclude": [
    "module",
    "function",
    "builtin_function_or_method",
    "instance",
    "_Feature"
   ],
   "window_display": false
  }
 },
 "nbformat": 4,
 "nbformat_minor": 4
}
